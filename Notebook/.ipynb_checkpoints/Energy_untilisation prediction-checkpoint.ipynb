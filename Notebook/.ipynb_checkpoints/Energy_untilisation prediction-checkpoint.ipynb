{
 "cells": [
  {
   "cell_type": "markdown",
   "id": "6b888e04",
   "metadata": {},
   "source": [
    "# BUILDING ENERGY CONSUMPTION PREDICTION"
   ]
  },
  {
   "cell_type": "markdown",
   "id": "e9b93843",
   "metadata": {},
   "source": [
    "### Table of Contents\n",
    "<ul>\n",
    "<li><a href=\"#intro\">Introduction</a></li>\n",
    "<li><a href=\"#wrangling\">Data Wrangling</a></li>\n",
    "<li><a href=\"#eda\">Exploratory Data Analysis</a></li>\n",
    "<li><a href=\"#fe\">Feature Engineering</a></li>\n",
    "<li><a href=\"#dp\">Data Processing</a></li>\n",
    "<li><a href=\"#mb\">Modelling</a></li>\n",
    "<li><a href=\"#conclusions\">Summary</a></li>\n",
    "</ul>"
   ]
  },
  {
   "cell_type": "markdown",
   "id": "349d25a4",
   "metadata": {},
   "source": [
    "<a name = \"intro\"></a>\n",
    "## 1. Introduction\n",
    "- Climate change is a globally relevant, urgent, and multi-faceted issue heavily impacted by energy policy and infrastructure. Addressing climate change involves mitigating greenhouse gas emissions and preparing for unavoidable consequences. Mitigation of GHG emissions requires changes to electricity systems, transportation, buildings, industry, and land use\n",
    "\n",
    "- According to a report issued by the International Energy Agency (IEA), the lifecycle of buildings from construction to demolition were responsible for 37% of global energy-related and process-related CO2 emissions in 2020. It is possible to drastically reduce the energy consumption of buildings by a combination of easy-to-implement fixes and state-of-the-art strategies. For example, retrofitted buildings can reduce heating and cooling energy requirements by 50-90 percent. Many of these energy efficiency measures also result in overall cost savings and yield other benefits, such as cleaner air for occupants. This potential can be achieved while maintaining the services that buildings provide.\n",
    "\n",
    "### 1.1 Objective\n",
    "Analyze differences in building energy efficiency, creating models to predict building energy consumption as  accurate predictions of energy consumption can help policymakers target retrofitting efforts to maximize emissions reductions.The evaluation metric for these prediction is Root Mean Squared Error (RMSE).\n",
    "\n",
    "### 1.2 Data Source\n",
    "- The data set used in notebook was created by the collaboration of\n",
    "    - Climate Change AI (CCAI)\n",
    "    - Lawrence Berkeley National Laboratory (Berkeley Lab)\n",
    "    - Environmental Protection Agency"
   ]
  },
  {
   "cell_type": "code",
   "execution_count": 1,
   "id": "13865221",
   "metadata": {},
   "outputs": [],
   "source": [
    "#Import librarys\n",
    "import pandas as pd\n",
    "import numpy as np\n",
    "import seaborn as sns\n",
    "from matplotlib import pyplot as plt\n",
    "import warnings"
   ]
  },
  {
   "cell_type": "code",
   "execution_count": 2,
   "id": "5e002c85",
   "metadata": {},
   "outputs": [],
   "source": [
    "#settings\n",
    "sns.set(style=\"white\")\n",
    "sns.set(style=\"whitegrid\", color_codes=True)\n",
    "%matplotlib inline\n",
    "warnings.filterwarnings('ignore')"
   ]
  },
  {
   "cell_type": "code",
   "execution_count": 8,
   "id": "67e77f95",
   "metadata": {
    "scrolled": true
   },
   "outputs": [
    {
     "data": {
      "text/html": [
       "<div>\n",
       "<style scoped>\n",
       "    .dataframe tbody tr th:only-of-type {\n",
       "        vertical-align: middle;\n",
       "    }\n",
       "\n",
       "    .dataframe tbody tr th {\n",
       "        vertical-align: top;\n",
       "    }\n",
       "\n",
       "    .dataframe thead th {\n",
       "        text-align: right;\n",
       "    }\n",
       "</style>\n",
       "<table border=\"1\" class=\"dataframe\">\n",
       "  <thead>\n",
       "    <tr style=\"text-align: right;\">\n",
       "      <th></th>\n",
       "      <th>Year_Factor</th>\n",
       "      <th>State_Factor</th>\n",
       "      <th>building_class</th>\n",
       "      <th>facility_type</th>\n",
       "      <th>floor_area</th>\n",
       "      <th>year_built</th>\n",
       "      <th>energy_star_rating</th>\n",
       "      <th>ELEVATION</th>\n",
       "      <th>january_min_temp</th>\n",
       "      <th>january_avg_temp</th>\n",
       "      <th>...</th>\n",
       "      <th>days_above_80F</th>\n",
       "      <th>days_above_90F</th>\n",
       "      <th>days_above_100F</th>\n",
       "      <th>days_above_110F</th>\n",
       "      <th>direction_max_wind_speed</th>\n",
       "      <th>direction_peak_wind_speed</th>\n",
       "      <th>max_wind_speed</th>\n",
       "      <th>days_with_fog</th>\n",
       "      <th>site_eui</th>\n",
       "      <th>id</th>\n",
       "    </tr>\n",
       "  </thead>\n",
       "  <tbody>\n",
       "    <tr>\n",
       "      <th>0</th>\n",
       "      <td>1</td>\n",
       "      <td>State_1</td>\n",
       "      <td>Commercial</td>\n",
       "      <td>Grocery_store_or_food_market</td>\n",
       "      <td>61242.0</td>\n",
       "      <td>1942.0</td>\n",
       "      <td>11.0</td>\n",
       "      <td>2.4</td>\n",
       "      <td>36</td>\n",
       "      <td>50.5</td>\n",
       "      <td>...</td>\n",
       "      <td>14</td>\n",
       "      <td>0</td>\n",
       "      <td>0</td>\n",
       "      <td>0</td>\n",
       "      <td>1.0</td>\n",
       "      <td>1.0</td>\n",
       "      <td>1.0</td>\n",
       "      <td>NaN</td>\n",
       "      <td>248.682615</td>\n",
       "      <td>0</td>\n",
       "    </tr>\n",
       "    <tr>\n",
       "      <th>1</th>\n",
       "      <td>1</td>\n",
       "      <td>State_1</td>\n",
       "      <td>Commercial</td>\n",
       "      <td>Warehouse_Distribution_or_Shipping_center</td>\n",
       "      <td>274000.0</td>\n",
       "      <td>1955.0</td>\n",
       "      <td>45.0</td>\n",
       "      <td>1.8</td>\n",
       "      <td>36</td>\n",
       "      <td>50.5</td>\n",
       "      <td>...</td>\n",
       "      <td>14</td>\n",
       "      <td>0</td>\n",
       "      <td>0</td>\n",
       "      <td>0</td>\n",
       "      <td>1.0</td>\n",
       "      <td>NaN</td>\n",
       "      <td>1.0</td>\n",
       "      <td>12.0</td>\n",
       "      <td>26.500150</td>\n",
       "      <td>1</td>\n",
       "    </tr>\n",
       "    <tr>\n",
       "      <th>2</th>\n",
       "      <td>1</td>\n",
       "      <td>State_1</td>\n",
       "      <td>Commercial</td>\n",
       "      <td>Retail_Enclosed_mall</td>\n",
       "      <td>280025.0</td>\n",
       "      <td>1951.0</td>\n",
       "      <td>97.0</td>\n",
       "      <td>1.8</td>\n",
       "      <td>36</td>\n",
       "      <td>50.5</td>\n",
       "      <td>...</td>\n",
       "      <td>14</td>\n",
       "      <td>0</td>\n",
       "      <td>0</td>\n",
       "      <td>0</td>\n",
       "      <td>1.0</td>\n",
       "      <td>NaN</td>\n",
       "      <td>1.0</td>\n",
       "      <td>12.0</td>\n",
       "      <td>24.693619</td>\n",
       "      <td>2</td>\n",
       "    </tr>\n",
       "    <tr>\n",
       "      <th>3</th>\n",
       "      <td>1</td>\n",
       "      <td>State_1</td>\n",
       "      <td>Commercial</td>\n",
       "      <td>Education_Other_classroom</td>\n",
       "      <td>55325.0</td>\n",
       "      <td>1980.0</td>\n",
       "      <td>46.0</td>\n",
       "      <td>1.8</td>\n",
       "      <td>36</td>\n",
       "      <td>50.5</td>\n",
       "      <td>...</td>\n",
       "      <td>14</td>\n",
       "      <td>0</td>\n",
       "      <td>0</td>\n",
       "      <td>0</td>\n",
       "      <td>1.0</td>\n",
       "      <td>NaN</td>\n",
       "      <td>1.0</td>\n",
       "      <td>12.0</td>\n",
       "      <td>48.406926</td>\n",
       "      <td>3</td>\n",
       "    </tr>\n",
       "  </tbody>\n",
       "</table>\n",
       "<p>4 rows × 64 columns</p>\n",
       "</div>"
      ],
      "text/plain": [
       "   Year_Factor State_Factor building_class  \\\n",
       "0            1      State_1     Commercial   \n",
       "1            1      State_1     Commercial   \n",
       "2            1      State_1     Commercial   \n",
       "3            1      State_1     Commercial   \n",
       "\n",
       "                               facility_type  floor_area  year_built  \\\n",
       "0               Grocery_store_or_food_market     61242.0      1942.0   \n",
       "1  Warehouse_Distribution_or_Shipping_center    274000.0      1955.0   \n",
       "2                       Retail_Enclosed_mall    280025.0      1951.0   \n",
       "3                  Education_Other_classroom     55325.0      1980.0   \n",
       "\n",
       "   energy_star_rating  ELEVATION  january_min_temp  january_avg_temp  ...  \\\n",
       "0                11.0        2.4                36              50.5  ...   \n",
       "1                45.0        1.8                36              50.5  ...   \n",
       "2                97.0        1.8                36              50.5  ...   \n",
       "3                46.0        1.8                36              50.5  ...   \n",
       "\n",
       "   days_above_80F  days_above_90F  days_above_100F  days_above_110F  \\\n",
       "0              14               0                0                0   \n",
       "1              14               0                0                0   \n",
       "2              14               0                0                0   \n",
       "3              14               0                0                0   \n",
       "\n",
       "   direction_max_wind_speed  direction_peak_wind_speed  max_wind_speed  \\\n",
       "0                       1.0                        1.0             1.0   \n",
       "1                       1.0                        NaN             1.0   \n",
       "2                       1.0                        NaN             1.0   \n",
       "3                       1.0                        NaN             1.0   \n",
       "\n",
       "   days_with_fog    site_eui  id  \n",
       "0            NaN  248.682615   0  \n",
       "1           12.0   26.500150   1  \n",
       "2           12.0   24.693619   2  \n",
       "3           12.0   48.406926   3  \n",
       "\n",
       "[4 rows x 64 columns]"
      ]
     },
     "execution_count": 8,
     "metadata": {},
     "output_type": "execute_result"
    }
   ],
   "source": [
    "df = pd.read_csv('../Dataset/data.csv')\n",
    "df.head(4)"
   ]
  },
  {
   "cell_type": "code",
   "execution_count": 9,
   "id": "13d8597b",
   "metadata": {},
   "outputs": [
    {
     "name": "stdout",
     "output_type": "stream",
     "text": [
      "Number of rows are: 75757\n",
      "Number of columns are: 64\n"
     ]
    }
   ],
   "source": [
    "#rows and columns\n",
    "print('Number of rows are:', df.shape[0]) \n",
    "print('Number of columns are:', df.shape[1])"
   ]
  },
  {
   "cell_type": "code",
   "execution_count": 10,
   "id": "2af28366",
   "metadata": {},
   "outputs": [
    {
     "name": "stdout",
     "output_type": "stream",
     "text": [
      "<class 'pandas.core.frame.DataFrame'>\n",
      "RangeIndex: 75757 entries, 0 to 75756\n",
      "Data columns (total 64 columns):\n",
      " #   Column                     Non-Null Count  Dtype  \n",
      "---  ------                     --------------  -----  \n",
      " 0   Year_Factor                75757 non-null  int64  \n",
      " 1   State_Factor               75757 non-null  object \n",
      " 2   building_class             75757 non-null  object \n",
      " 3   facility_type              75757 non-null  object \n",
      " 4   floor_area                 75757 non-null  float64\n",
      " 5   year_built                 73920 non-null  float64\n",
      " 6   energy_star_rating         49048 non-null  float64\n",
      " 7   ELEVATION                  75757 non-null  float64\n",
      " 8   january_min_temp           75757 non-null  int64  \n",
      " 9   january_avg_temp           75757 non-null  float64\n",
      " 10  january_max_temp           75757 non-null  int64  \n",
      " 11  february_min_temp          75757 non-null  int64  \n",
      " 12  february_avg_temp          75757 non-null  float64\n",
      " 13  february_max_temp          75757 non-null  int64  \n",
      " 14  march_min_temp             75757 non-null  int64  \n",
      " 15  march_avg_temp             75757 non-null  float64\n",
      " 16  march_max_temp             75757 non-null  int64  \n",
      " 17  april_min_temp             75757 non-null  int64  \n",
      " 18  april_avg_temp             75757 non-null  float64\n",
      " 19  april_max_temp             75757 non-null  int64  \n",
      " 20  may_min_temp               75757 non-null  int64  \n",
      " 21  may_avg_temp               75757 non-null  float64\n",
      " 22  may_max_temp               75757 non-null  int64  \n",
      " 23  june_min_temp              75757 non-null  int64  \n",
      " 24  june_avg_temp              75757 non-null  float64\n",
      " 25  june_max_temp              75757 non-null  int64  \n",
      " 26  july_min_temp              75757 non-null  int64  \n",
      " 27  july_avg_temp              75757 non-null  float64\n",
      " 28  july_max_temp              75757 non-null  int64  \n",
      " 29  august_min_temp            75757 non-null  int64  \n",
      " 30  august_avg_temp            75757 non-null  float64\n",
      " 31  august_max_temp            75757 non-null  int64  \n",
      " 32  september_min_temp         75757 non-null  int64  \n",
      " 33  september_avg_temp         75757 non-null  float64\n",
      " 34  september_max_temp         75757 non-null  int64  \n",
      " 35  october_min_temp           75757 non-null  int64  \n",
      " 36  october_avg_temp           75757 non-null  float64\n",
      " 37  october_max_temp           75757 non-null  int64  \n",
      " 38  november_min_temp          75757 non-null  int64  \n",
      " 39  november_avg_temp          75757 non-null  float64\n",
      " 40  november_max_temp          75757 non-null  int64  \n",
      " 41  december_min_temp          75757 non-null  int64  \n",
      " 42  december_avg_temp          75757 non-null  float64\n",
      " 43  december_max_temp          75757 non-null  int64  \n",
      " 44  cooling_degree_days        75757 non-null  int64  \n",
      " 45  heating_degree_days        75757 non-null  int64  \n",
      " 46  precipitation_inches       75757 non-null  float64\n",
      " 47  snowfall_inches            75757 non-null  float64\n",
      " 48  snowdepth_inches           75757 non-null  int64  \n",
      " 49  avg_temp                   75757 non-null  float64\n",
      " 50  days_below_30F             75757 non-null  int64  \n",
      " 51  days_below_20F             75757 non-null  int64  \n",
      " 52  days_below_10F             75757 non-null  int64  \n",
      " 53  days_below_0F              75757 non-null  int64  \n",
      " 54  days_above_80F             75757 non-null  int64  \n",
      " 55  days_above_90F             75757 non-null  int64  \n",
      " 56  days_above_100F            75757 non-null  int64  \n",
      " 57  days_above_110F            75757 non-null  int64  \n",
      " 58  direction_max_wind_speed   34675 non-null  float64\n",
      " 59  direction_peak_wind_speed  33946 non-null  float64\n",
      " 60  max_wind_speed             34675 non-null  float64\n",
      " 61  days_with_fog              29961 non-null  float64\n",
      " 62  site_eui                   75757 non-null  float64\n",
      " 63  id                         75757 non-null  int64  \n",
      "dtypes: float64(24), int64(37), object(3)\n",
      "memory usage: 37.0+ MB\n"
     ]
    }
   ],
   "source": [
    "df.info()"
   ]
  },
  {
   "cell_type": "markdown",
   "id": "e6aae4bc",
   "metadata": {},
   "source": [
    "<a name = \"wrangling\"></a>\n",
    "##  2. Data Wrangling"
   ]
  },
  {
   "cell_type": "code",
   "execution_count": 11,
   "id": "ab3c20bf",
   "metadata": {
    "scrolled": false
   },
   "outputs": [
    {
     "data": {
      "text/plain": [
       "year_built                    2.424858\n",
       "energy_star_rating           35.256148\n",
       "direction_max_wind_speed     54.228652\n",
       "direction_peak_wind_speed    55.190939\n",
       "max_wind_speed               54.228652\n",
       "days_with_fog                60.451179\n",
       "dtype: float64"
      ]
     },
     "execution_count": 11,
     "metadata": {},
     "output_type": "execute_result"
    }
   ],
   "source": [
    "#percentage of missing values\n",
    "(df.isnull().sum()[df.isnull().sum()> 0])/df.shape[0] *100"
   ]
  },
  {
   "cell_type": "code",
   "execution_count": 12,
   "id": "9855f485",
   "metadata": {},
   "outputs": [],
   "source": [
    "#drop colimns with greather than 50 percent of values mmisssing\n",
    "null_columns=['direction_max_wind_speed','max_wind_speed','direction_peak_wind_speed','days_with_fog',]\n",
    "for column in null_columns:\n",
    "    df=df.drop(column, axis=1)\n",
    "df=df.dropna()"
   ]
  },
  {
   "cell_type": "code",
   "execution_count": 15,
   "id": "a51f717f",
   "metadata": {
    "scrolled": true
   },
   "outputs": [
    {
     "name": "stdout",
     "output_type": "stream",
     "text": [
      "0 duplicated values in dataset\n"
     ]
    }
   ],
   "source": [
    "#check and drop duplicated rows duplicate rows\n",
    "df.duplicated().sum()\n",
    "print(f'{df.duplicated().sum()} duplicated values in dataset')\n",
    "df=df.drop(df[df.duplicated()].index)"
   ]
  },
  {
   "cell_type": "code",
   "execution_count": 16,
   "id": "e2407862",
   "metadata": {
    "scrolled": true
   },
   "outputs": [
    {
     "data": {
      "text/html": [
       "<div>\n",
       "<style scoped>\n",
       "    .dataframe tbody tr th:only-of-type {\n",
       "        vertical-align: middle;\n",
       "    }\n",
       "\n",
       "    .dataframe tbody tr th {\n",
       "        vertical-align: top;\n",
       "    }\n",
       "\n",
       "    .dataframe thead th {\n",
       "        text-align: right;\n",
       "    }\n",
       "</style>\n",
       "<table border=\"1\" class=\"dataframe\">\n",
       "  <thead>\n",
       "    <tr style=\"text-align: right;\">\n",
       "      <th></th>\n",
       "      <th>Year_Factor</th>\n",
       "      <th>floor_area</th>\n",
       "      <th>year_built</th>\n",
       "      <th>energy_star_rating</th>\n",
       "      <th>ELEVATION</th>\n",
       "      <th>january_min_temp</th>\n",
       "      <th>january_avg_temp</th>\n",
       "      <th>january_max_temp</th>\n",
       "      <th>february_min_temp</th>\n",
       "      <th>february_avg_temp</th>\n",
       "      <th>...</th>\n",
       "      <th>days_below_30F</th>\n",
       "      <th>days_below_20F</th>\n",
       "      <th>days_below_10F</th>\n",
       "      <th>days_below_0F</th>\n",
       "      <th>days_above_80F</th>\n",
       "      <th>days_above_90F</th>\n",
       "      <th>days_above_100F</th>\n",
       "      <th>days_above_110F</th>\n",
       "      <th>site_eui</th>\n",
       "      <th>id</th>\n",
       "    </tr>\n",
       "  </thead>\n",
       "  <tbody>\n",
       "    <tr>\n",
       "      <th>count</th>\n",
       "      <td>48445.000000</td>\n",
       "      <td>4.844500e+04</td>\n",
       "      <td>48445.000000</td>\n",
       "      <td>48445.000000</td>\n",
       "      <td>48445.000000</td>\n",
       "      <td>48445.000000</td>\n",
       "      <td>48445.000000</td>\n",
       "      <td>48445.000000</td>\n",
       "      <td>48445.000000</td>\n",
       "      <td>48445.000000</td>\n",
       "      <td>...</td>\n",
       "      <td>48445.000000</td>\n",
       "      <td>48445.000000</td>\n",
       "      <td>48445.000000</td>\n",
       "      <td>48445.000000</td>\n",
       "      <td>48445.000000</td>\n",
       "      <td>48445.000000</td>\n",
       "      <td>48445.000000</td>\n",
       "      <td>48445.0</td>\n",
       "      <td>48445.000000</td>\n",
       "      <td>48445.000000</td>\n",
       "    </tr>\n",
       "    <tr>\n",
       "      <th>mean</th>\n",
       "      <td>4.823449</td>\n",
       "      <td>1.773987e+05</td>\n",
       "      <td>1953.320817</td>\n",
       "      <td>61.043327</td>\n",
       "      <td>41.844801</td>\n",
       "      <td>10.790133</td>\n",
       "      <td>33.465387</td>\n",
       "      <td>58.152606</td>\n",
       "      <td>9.470018</td>\n",
       "      <td>34.596930</td>\n",
       "      <td>...</td>\n",
       "      <td>52.313985</td>\n",
       "      <td>20.077923</td>\n",
       "      <td>6.135762</td>\n",
       "      <td>1.100403</td>\n",
       "      <td>84.962205</td>\n",
       "      <td>13.707503</td>\n",
       "      <td>0.192961</td>\n",
       "      <td>0.0</td>\n",
       "      <td>80.845025</td>\n",
       "      <td>41230.499990</td>\n",
       "    </tr>\n",
       "    <tr>\n",
       "      <th>std</th>\n",
       "      <td>1.255349</td>\n",
       "      <td>2.555118e+05</td>\n",
       "      <td>39.408589</td>\n",
       "      <td>28.658852</td>\n",
       "      <td>56.582396</td>\n",
       "      <td>9.875005</td>\n",
       "      <td>7.194351</td>\n",
       "      <td>5.283618</td>\n",
       "      <td>12.924683</td>\n",
       "      <td>9.270633</td>\n",
       "      <td>...</td>\n",
       "      <td>28.041883</td>\n",
       "      <td>14.966164</td>\n",
       "      <td>7.368871</td>\n",
       "      <td>3.215936</td>\n",
       "      <td>26.181737</td>\n",
       "      <td>10.358731</td>\n",
       "      <td>1.230212</td>\n",
       "      <td>0.0</td>\n",
       "      <td>53.530863</td>\n",
       "      <td>22421.998905</td>\n",
       "    </tr>\n",
       "    <tr>\n",
       "      <th>min</th>\n",
       "      <td>1.000000</td>\n",
       "      <td>2.395000e+03</td>\n",
       "      <td>0.000000</td>\n",
       "      <td>0.000000</td>\n",
       "      <td>1.800000</td>\n",
       "      <td>-19.000000</td>\n",
       "      <td>10.806452</td>\n",
       "      <td>42.000000</td>\n",
       "      <td>-13.000000</td>\n",
       "      <td>13.250000</td>\n",
       "      <td>...</td>\n",
       "      <td>0.000000</td>\n",
       "      <td>0.000000</td>\n",
       "      <td>0.000000</td>\n",
       "      <td>0.000000</td>\n",
       "      <td>6.000000</td>\n",
       "      <td>0.000000</td>\n",
       "      <td>0.000000</td>\n",
       "      <td>0.0</td>\n",
       "      <td>1.002998</td>\n",
       "      <td>0.000000</td>\n",
       "    </tr>\n",
       "    <tr>\n",
       "      <th>25%</th>\n",
       "      <td>4.000000</td>\n",
       "      <td>6.340000e+04</td>\n",
       "      <td>1927.000000</td>\n",
       "      <td>40.000000</td>\n",
       "      <td>9.100000</td>\n",
       "      <td>4.000000</td>\n",
       "      <td>28.596774</td>\n",
       "      <td>56.000000</td>\n",
       "      <td>-1.000000</td>\n",
       "      <td>29.711538</td>\n",
       "      <td>...</td>\n",
       "      <td>40.000000</td>\n",
       "      <td>11.000000</td>\n",
       "      <td>0.000000</td>\n",
       "      <td>0.000000</td>\n",
       "      <td>75.000000</td>\n",
       "      <td>4.000000</td>\n",
       "      <td>0.000000</td>\n",
       "      <td>0.0</td>\n",
       "      <td>54.450820</td>\n",
       "      <td>16920.000000</td>\n",
       "    </tr>\n",
       "    <tr>\n",
       "      <th>50%</th>\n",
       "      <td>5.000000</td>\n",
       "      <td>9.476900e+04</td>\n",
       "      <td>1954.000000</td>\n",
       "      <td>67.000000</td>\n",
       "      <td>25.000000</td>\n",
       "      <td>8.000000</td>\n",
       "      <td>29.966667</td>\n",
       "      <td>58.000000</td>\n",
       "      <td>2.000000</td>\n",
       "      <td>33.910714</td>\n",
       "      <td>...</td>\n",
       "      <td>63.000000</td>\n",
       "      <td>24.000000</td>\n",
       "      <td>4.000000</td>\n",
       "      <td>0.000000</td>\n",
       "      <td>96.000000</td>\n",
       "      <td>12.000000</td>\n",
       "      <td>0.000000</td>\n",
       "      <td>0.0</td>\n",
       "      <td>74.495902</td>\n",
       "      <td>44975.000000</td>\n",
       "    </tr>\n",
       "    <tr>\n",
       "      <th>75%</th>\n",
       "      <td>6.000000</td>\n",
       "      <td>1.773800e+05</td>\n",
       "      <td>1980.000000</td>\n",
       "      <td>85.000000</td>\n",
       "      <td>42.700000</td>\n",
       "      <td>11.000000</td>\n",
       "      <td>34.451613</td>\n",
       "      <td>59.000000</td>\n",
       "      <td>15.000000</td>\n",
       "      <td>37.706897</td>\n",
       "      <td>...</td>\n",
       "      <td>66.000000</td>\n",
       "      <td>34.000000</td>\n",
       "      <td>9.000000</td>\n",
       "      <td>1.000000</td>\n",
       "      <td>106.000000</td>\n",
       "      <td>17.000000</td>\n",
       "      <td>0.000000</td>\n",
       "      <td>0.0</td>\n",
       "      <td>95.736712</td>\n",
       "      <td>59794.000000</td>\n",
       "    </tr>\n",
       "    <tr>\n",
       "      <th>max</th>\n",
       "      <td>6.000000</td>\n",
       "      <td>4.483315e+06</td>\n",
       "      <td>2015.000000</td>\n",
       "      <td>100.000000</td>\n",
       "      <td>470.300000</td>\n",
       "      <td>41.000000</td>\n",
       "      <td>55.096774</td>\n",
       "      <td>77.000000</td>\n",
       "      <td>42.000000</td>\n",
       "      <td>56.948276</td>\n",
       "      <td>...</td>\n",
       "      <td>137.000000</td>\n",
       "      <td>93.000000</td>\n",
       "      <td>59.000000</td>\n",
       "      <td>31.000000</td>\n",
       "      <td>136.000000</td>\n",
       "      <td>52.000000</td>\n",
       "      <td>10.000000</td>\n",
       "      <td>0.0</td>\n",
       "      <td>970.388586</td>\n",
       "      <td>75756.000000</td>\n",
       "    </tr>\n",
       "  </tbody>\n",
       "</table>\n",
       "<p>8 rows × 57 columns</p>\n",
       "</div>"
      ],
      "text/plain": [
       "        Year_Factor    floor_area    year_built  energy_star_rating  \\\n",
       "count  48445.000000  4.844500e+04  48445.000000        48445.000000   \n",
       "mean       4.823449  1.773987e+05   1953.320817           61.043327   \n",
       "std        1.255349  2.555118e+05     39.408589           28.658852   \n",
       "min        1.000000  2.395000e+03      0.000000            0.000000   \n",
       "25%        4.000000  6.340000e+04   1927.000000           40.000000   \n",
       "50%        5.000000  9.476900e+04   1954.000000           67.000000   \n",
       "75%        6.000000  1.773800e+05   1980.000000           85.000000   \n",
       "max        6.000000  4.483315e+06   2015.000000          100.000000   \n",
       "\n",
       "          ELEVATION  january_min_temp  january_avg_temp  january_max_temp  \\\n",
       "count  48445.000000      48445.000000      48445.000000      48445.000000   \n",
       "mean      41.844801         10.790133         33.465387         58.152606   \n",
       "std       56.582396          9.875005          7.194351          5.283618   \n",
       "min        1.800000        -19.000000         10.806452         42.000000   \n",
       "25%        9.100000          4.000000         28.596774         56.000000   \n",
       "50%       25.000000          8.000000         29.966667         58.000000   \n",
       "75%       42.700000         11.000000         34.451613         59.000000   \n",
       "max      470.300000         41.000000         55.096774         77.000000   \n",
       "\n",
       "       february_min_temp  february_avg_temp  ...  days_below_30F  \\\n",
       "count       48445.000000       48445.000000  ...    48445.000000   \n",
       "mean            9.470018          34.596930  ...       52.313985   \n",
       "std            12.924683           9.270633  ...       28.041883   \n",
       "min           -13.000000          13.250000  ...        0.000000   \n",
       "25%            -1.000000          29.711538  ...       40.000000   \n",
       "50%             2.000000          33.910714  ...       63.000000   \n",
       "75%            15.000000          37.706897  ...       66.000000   \n",
       "max            42.000000          56.948276  ...      137.000000   \n",
       "\n",
       "       days_below_20F  days_below_10F  days_below_0F  days_above_80F  \\\n",
       "count    48445.000000    48445.000000   48445.000000    48445.000000   \n",
       "mean        20.077923        6.135762       1.100403       84.962205   \n",
       "std         14.966164        7.368871       3.215936       26.181737   \n",
       "min          0.000000        0.000000       0.000000        6.000000   \n",
       "25%         11.000000        0.000000       0.000000       75.000000   \n",
       "50%         24.000000        4.000000       0.000000       96.000000   \n",
       "75%         34.000000        9.000000       1.000000      106.000000   \n",
       "max         93.000000       59.000000      31.000000      136.000000   \n",
       "\n",
       "       days_above_90F  days_above_100F  days_above_110F      site_eui  \\\n",
       "count    48445.000000     48445.000000          48445.0  48445.000000   \n",
       "mean        13.707503         0.192961              0.0     80.845025   \n",
       "std         10.358731         1.230212              0.0     53.530863   \n",
       "min          0.000000         0.000000              0.0      1.002998   \n",
       "25%          4.000000         0.000000              0.0     54.450820   \n",
       "50%         12.000000         0.000000              0.0     74.495902   \n",
       "75%         17.000000         0.000000              0.0     95.736712   \n",
       "max         52.000000        10.000000              0.0    970.388586   \n",
       "\n",
       "                 id  \n",
       "count  48445.000000  \n",
       "mean   41230.499990  \n",
       "std    22421.998905  \n",
       "min        0.000000  \n",
       "25%    16920.000000  \n",
       "50%    44975.000000  \n",
       "75%    59794.000000  \n",
       "max    75756.000000  \n",
       "\n",
       "[8 rows x 57 columns]"
      ]
     },
     "execution_count": 16,
     "metadata": {},
     "output_type": "execute_result"
    }
   ],
   "source": [
    "df.describe()"
   ]
  },
  {
   "cell_type": "markdown",
   "id": "32218eeb",
   "metadata": {},
   "source": [
    "<a name = \"eda\"></a>\n",
    "## 3. Exploratory Data Analysis"
   ]
  },
  {
   "cell_type": "markdown",
   "id": "9ae3fcd0",
   "metadata": {},
   "source": [
    "### 3.1 Distribution of Target Feature"
   ]
  },
  {
   "cell_type": "code",
   "execution_count": 17,
   "id": "99e3a28c",
   "metadata": {},
   "outputs": [
    {
     "data": {
      "image/png": "[encoded data removed]",
      "text/plain": [
       "<Figure size 1080x288 with 2 Axes>"
      ]
     },
     "metadata": {
      "needs_background": "light"
     },
     "output_type": "display_data"
    }
   ],
   "source": [
    "plt.figure(figsize=(15,4))# figure\n",
    "ax1=plt.subplot(1, 2, 1)\n",
    "sns.boxplot(data=df, x='site_eui', ax=ax1, showmeans=True,meanprops={\"marker\":\"o\",\n",
    "\"markerfacecolor\":\"white\",\"markersize\":\"5\",\"markeredgecolor\":\"black\"})\n",
    "plt.title('Site_eui Boxplot', fontsize=18)\n",
    "ax2=plt.subplot(1, 2, 2)\n",
    "sns.histplot(data=df, x='site_eui', bins=10, kde=True, color = 'navy', ax=ax2)\n",
    "plt.title('Site_eui Distribution', fontsize=18);"
   ]
  },
  {
   "cell_type": "markdown",
   "id": "cafb48f3",
   "metadata": {},
   "source": [
    "- Target feature ```site_eui ``` left skwed with few outliers\n",
    "- Minimum and maximum value of 1 and 970 respectivly, standard deviation of 54\n",
    "- Mean of 80.845025 and median of 74.495902"
   ]
  },
  {
   "cell_type": "markdown",
   "id": "24e4bfff",
   "metadata": {},
   "source": [
    "### 3.2  Building Class and State Factor"
   ]
  },
  {
   "cell_type": "code",
   "execution_count": 18,
   "id": "813aa642",
   "metadata": {},
   "outputs": [
    {
     "data": {
      "image/png": "[encoded data removed]",
      "text/plain": [
       "<Figure size 1080x288 with 2 Axes>"
      ]
     },
     "metadata": {
      "needs_background": "light"
     },
     "output_type": "display_data"
    }
   ],
   "source": [
    "plt.figure(figsize=(15,4)) #figure\n",
    "ax1=plt.subplot(1, 2, 1)\n",
    "sns.countplot(data=df, x='building_class', ax=ax1)\n",
    "plt.xticks(rotation=45)\n",
    "ax2=plt.subplot(1, 2, 2)\n",
    "sns.countplot(data=df, x='State_Factor', ax=ax2); \n",
    "plt.xticks(rotation=45);"
   ]
  },
  {
   "cell_type": "markdown",
   "id": "67ce7fa1",
   "metadata": {},
   "source": [
    "### 3.3 Elevation, Energy Star Rating, Floor Area and  Cooling Degree Days Boxplot"
   ]
  },
  {
   "cell_type": "code",
   "execution_count": 19,
   "id": "b36af487",
   "metadata": {
    "scrolled": false
   },
   "outputs": [
    {
     "data": {
      "image/png": "[encoded data removed]",
      "text/plain": [
       "<Figure size 1080x504 with 4 Axes>"
      ]
     },
     "metadata": {
      "needs_background": "light"
     },
     "output_type": "display_data"
    }
   ],
   "source": [
    "x=['ELEVATION', 'energy_star_rating', 'floor_area', 'cooling_degree_days']\n",
    "plt.figure(figsize=(15,7))\n",
    "for i in x:  #boxplot of the above columns in x list\n",
    "    ax1=plt.subplot(2, 2, x.index(i)+1)\n",
    "    sns.boxplot(data=df, x=i,ax=ax1, showmeans=True,meanprops={\"marker\":\"o\",\n",
    "     \"markerfacecolor\":\"white\",\"markersize\":\"5\",\"markeredgecolor\":\"black\"})\n",
    "    plt.title(f'{i.capitalize()} Boxplot', fontsize=18);                               \n",
    "    plt.tight_layout()\n"
   ]
  },
  {
   "cell_type": "markdown",
   "id": "e76299fd",
   "metadata": {},
   "source": [
    "### 3.4 Elevation, Energy Star Rating, Floor Area and  Cooling Degree Days Distribution"
   ]
  },
  {
   "cell_type": "code",
   "execution_count": null,
   "id": "be44b404",
   "metadata": {},
   "outputs": [],
   "source": [
    "x=['ELEVATION', 'energy_star_rating', 'floor_area', 'cooling_degree_days']\n",
    "plt.figure(figsize=(15,7))\n",
    "for i in x:  #boxplot of the above columns in x list\n",
    "    ax1=plt.subplot(2, 2, x.index(i)+1)\n",
    "    sns.histplot(data=df, x=i, bins=10, kde=True, color = 'navy', ax=ax1)\n",
    "    plt.title(f'{i.capitalize()} Distribution', fontsize=18);                               \n",
    "    plt.tight_layout()"
   ]
  },
  {
   "cell_type": "markdown",
   "id": "ff200c38",
   "metadata": {},
   "source": [
    "### 3.5 Facility Type"
   ]
  },
  {
   "cell_type": "code",
   "execution_count": null,
   "id": "6e0248ef",
   "metadata": {
    "scrolled": true
   },
   "outputs": [],
   "source": [
    "#Rename facility type with less than 1000 as others\n",
    "facilityType = list(df['facility_type'].value_counts()[df['facility_type'].value_counts() < 1000].index)\n",
    "def facility(facility):\n",
    "    if facility in facilityType:\n",
    "        facility = 'Others'\n",
    "    else:\n",
    "        facility =  facility\n",
    "    return facility\n",
    "facilityType = df['facility_type'].apply(facility)\n",
    "facilityType=facilityType.value_counts()"
   ]
  },
  {
   "cell_type": "code",
   "execution_count": null,
   "id": "2b066a75",
   "metadata": {},
   "outputs": [],
   "source": [
    "#ploting\n",
    "plt.figure(figsize=(15,5))\n",
    "sns.barplot(x=facilityType.index, y=facilityType.values)\n",
    "plt.xticks(rotation=45);"
   ]
  },
  {
   "cell_type": "markdown",
   "id": "e3bd2709",
   "metadata": {},
   "source": [
    "<a name =\"fe\"></a>\n",
    "## 4. Feature Engineering"
   ]
  },
  {
   "cell_type": "markdown",
   "id": "51554e48",
   "metadata": {},
   "source": [
    "### 4.1 Building Age"
   ]
  },
  {
   "cell_type": "code",
   "execution_count": null,
   "id": "8155e5dc",
   "metadata": {},
   "outputs": [],
   "source": [
    "# get the age of the building for the year\n",
    "df=df.mask(df['year_built'] == 0, 2022)\n",
    "def year(data):\n",
    "    year = 2022 - data\n",
    "    return year\n",
    "df['Age'] = df['year_built'].apply(year)"
   ]
  },
  {
   "cell_type": "code",
   "execution_count": null,
   "id": "6904e535",
   "metadata": {
    "scrolled": true
   },
   "outputs": [],
   "source": [
    "plt.figure(figsize=(15,4))# figure\n",
    "ax1=plt.subplot(1, 2, 1)\n",
    "sns.boxplot(data=df, x='Age', ax=ax1, color = 'navy', showmeans=True,meanprops={\"marker\":\"o\",\n",
    "\"markerfacecolor\":\"white\",\"markersize\":\"5\",\"markeredgecolor\":\"black\"})\n",
    "plt.title('Age Boxplot', fontsize=18)\n",
    "ax2=plt.subplot(1, 2, 2)\n",
    "sns.histplot(data=df, x='Age', bins=10, color = 'navy', ax=ax2)\n",
    "plt.title('Age Distribution', fontsize=18);"
   ]
  },
  {
   "cell_type": "markdown",
   "id": "2bfc8ef0",
   "metadata": {},
   "source": [
    "- Building age is Normally distributed with a few outliers\n",
    "- Majority of the building in the observation are between 0 to 100 years with the oldest been 422 years old"
   ]
  },
  {
   "cell_type": "markdown",
   "id": "b0c79bd2",
   "metadata": {},
   "source": [
    "### 4.2 Spring Summer Fall and Winter Temprature"
   ]
  },
  {
   "cell_type": "code",
   "execution_count": null,
   "id": "7fb03782",
   "metadata": {},
   "outputs": [],
   "source": [
    "df['spring'] = (df['march_avg_temp'] + df['april_avg_temp'] + df['may_avg_temp'])/3\n",
    "df['summer'] = (df['june_avg_temp'] + df['july_avg_temp'] + df['august_avg_temp'])/3\n",
    "df['fall'] = (df['september_avg_temp'] + df['october_avg_temp'] + df['november_avg_temp'])/3\n",
    "df['winter'] = (df['december_avg_temp'] + df['january_avg_temp'] + df['february_avg_temp'])/3"
   ]
  },
  {
   "cell_type": "markdown",
   "id": "e6af27f7",
   "metadata": {},
   "source": [
    "### 4.3 Days Below and Above Certain Temperature"
   ]
  },
  {
   "cell_type": "code",
   "execution_count": null,
   "id": "9eede102",
   "metadata": {},
   "outputs": [],
   "source": [
    "# concat days below and days above certain degrees\n",
    "df['days_below_F'] = df['days_below_30F']+df['days_below_20F']+df['days_below_10F']+df['days_below_0F']\n",
    "df['days_above_F'] = df['days_above_80F']+df['days_above_90F']+df['days_above_100F']#+df['days_above_110F']\n",
    "col = ['days_below_30F','days_below_20F','days_below_10F','days_below_0F',\n",
    "        'days_above_80F','days_above_90F','days_above_100F']\n",
    "df=df.drop(col ,axis=1,)"
   ]
  },
  {
   "cell_type": "markdown",
   "id": "b21cd9be",
   "metadata": {},
   "source": [
    "<a name =\"dp\"></a>\n",
    "## 5. Data Processing"
   ]
  },
  {
   "cell_type": "markdown",
   "id": "17c3039b",
   "metadata": {},
   "source": [
    "### 5.1 Dropping Irrelevant Columns"
   ]
  },
  {
   "cell_type": "code",
   "execution_count": null,
   "id": "887439f0",
   "metadata": {},
   "outputs": [],
   "source": [
    "# snowfall_inches and snowdepth_inches are highly correlated, drop one of them\n",
    "col = ['snowdepth_inches','year_built','building_class']\n",
    "df=df.drop(col, axis=1)"
   ]
  },
  {
   "cell_type": "code",
   "execution_count": null,
   "id": "a0289a3c",
   "metadata": {},
   "outputs": [],
   "source": [
    "# days_above_110F contain only 1 value id is also irrelevant \n",
    "col = [ 'days_above_110F', 'id']\n",
    "df=df.drop(col, axis=1)"
   ]
  },
  {
   "cell_type": "code",
   "execution_count": null,
   "id": "5858e317",
   "metadata": {},
   "outputs": [],
   "source": [
    "max_temp =['january_max_temp', 'february_max_temp', 'march_max_temp','april_max_temp', 'may_max_temp',\n",
    " 'june_max_temp', 'july_max_temp','august_max_temp', 'september_max_temp', 'october_max_temp',\n",
    "    'november_max_temp', 'december_max_temp']\n",
    "df=df.drop(columns=max_temp)"
   ]
  },
  {
   "cell_type": "code",
   "execution_count": null,
   "id": "de4cb488",
   "metadata": {},
   "outputs": [],
   "source": [
    "min_temp = [ 'january_min_temp', 'february_min_temp','march_min_temp','april_min_temp', 'may_min_temp', \n",
    "            'june_min_temp','july_min_temp', 'august_min_temp', 'september_min_temp','october_min_temp', \n",
    "            'november_min_temp', 'december_min_temp',]\n",
    "df=df.drop(columns=min_temp)"
   ]
  },
  {
   "cell_type": "code",
   "execution_count": null,
   "id": "aeb92573",
   "metadata": {},
   "outputs": [],
   "source": [
    "avg_temp=['january_avg_temp','february_avg_temp','march_avg_temp','april_avg_temp', 'may_avg_temp','june_avg_temp',\n",
    "          'july_avg_temp', 'august_avg_temp','september_avg_temp', 'october_avg_temp', 'november_avg_temp',\n",
    "          'december_avg_temp',]\n",
    "df=df.drop(columns=avg_temp)"
   ]
  },
  {
   "cell_type": "markdown",
   "id": "ad71e804",
   "metadata": {},
   "source": [
    "### 5.2 Feature Selection"
   ]
  },
  {
   "cell_type": "code",
   "execution_count": null,
   "id": "a293f8e2",
   "metadata": {},
   "outputs": [],
   "source": [
    "# Create correlation matrix\n",
    "corr_matrix = df.corr().abs()\n",
    "# Select upper triangle of correlation matrix\n",
    "upper = corr_matrix.where(np.triu(np.ones(corr_matrix.shape), k=1).astype(np.bool))\n",
    "# Find features with correlation greater than 0.85\n",
    "to_drop = [column for column in upper.columns if any(upper[column] > 0.75)]\n",
    "df=df.drop(to_drop,axis=1)"
   ]
  },
  {
   "cell_type": "code",
   "execution_count": null,
   "id": "a398f475",
   "metadata": {},
   "outputs": [],
   "source": [
    "#Heat map\n",
    "print(\"Correlation Matrix\",\"\\n\")    \n",
    "correlation=df.corr(method=\"pearson\")\n",
    "plt.figure(figsize=(25,10))\n",
    "sns.heatmap(correlation,vmax=1,square=True,annot=True);"
   ]
  },
  {
   "cell_type": "markdown",
   "id": "5edb81a0",
   "metadata": {},
   "source": [
    "### 5.3 Label Encoding"
   ]
  },
  {
   "cell_type": "code",
   "execution_count": null,
   "id": "14a4c07d",
   "metadata": {},
   "outputs": [],
   "source": [
    "df=df.drop(df[df['State_Factor']==2022].index, axis=0)\n",
    "df2=df.copy()"
   ]
  },
  {
   "cell_type": "code",
   "execution_count": null,
   "id": "20f999c2",
   "metadata": {},
   "outputs": [],
   "source": [
    "from sklearn import preprocessing\n",
    "label = preprocessing.LabelEncoder()"
   ]
  },
  {
   "cell_type": "code",
   "execution_count": null,
   "id": "a90c28b9",
   "metadata": {},
   "outputs": [],
   "source": [
    "label_col=['State_Factor','facility_type']\n",
    "def labeling(col):\n",
    "        df[col]=label.fit_transform(df[col])"
   ]
  },
  {
   "cell_type": "code",
   "execution_count": null,
   "id": "b4d87bc2",
   "metadata": {},
   "outputs": [],
   "source": [
    "for i in label_col:\n",
    "    labeling(i)"
   ]
  },
  {
   "cell_type": "markdown",
   "id": "4c570ae3",
   "metadata": {},
   "source": [
    "### 5.4 Sliptting "
   ]
  },
  {
   "cell_type": "code",
   "execution_count": null,
   "id": "85291fa4",
   "metadata": {},
   "outputs": [],
   "source": [
    "X = df.drop(columns='site_eui') #  drop the target column\n",
    "y= df['site_eui'] # target column"
   ]
  },
  {
   "cell_type": "code",
   "execution_count": null,
   "id": "bc4308f9",
   "metadata": {},
   "outputs": [],
   "source": [
    "from sklearn.model_selection import train_test_split \n",
    "X_train, X_test, y_train, y_test = train_test_split(X, y, test_size=0.2,random_state=42)"
   ]
  },
  {
   "cell_type": "markdown",
   "id": "c602b522",
   "metadata": {},
   "source": [
    "<a name =\"mb\"></a>\n",
    "## 6. Modelling"
   ]
  },
  {
   "cell_type": "code",
   "execution_count": null,
   "id": "348bf72b",
   "metadata": {},
   "outputs": [],
   "source": [
    "import lightgbm as lgb\n",
    "from sklearn.ensemble import RandomForestRegressor\n",
    "from sklearn.ensemble import GradientBoostingRegressor\n",
    "from xgboost import XGBRegressor"
   ]
  },
  {
   "cell_type": "markdown",
   "id": "c80febbc",
   "metadata": {},
   "source": [
    "### 6.1 Model Building"
   ]
  },
  {
   "cell_type": "code",
   "execution_count": null,
   "id": "a8464ebf",
   "metadata": {},
   "outputs": [],
   "source": [
    "lgb = lgb.LGBMRegressor()\n",
    "xgb= XGBRegressor()\n",
    "rf = RandomForestRegressor()\n",
    "gb = GradientBoostingRegressor()"
   ]
  },
  {
   "cell_type": "code",
   "execution_count": null,
   "id": "4e8940f4",
   "metadata": {
    "scrolled": true
   },
   "outputs": [],
   "source": [
    "# training the model\n",
    "lgb.fit(X_train, y_train)\n",
    "xgb.fit(X_train, y_train)\n",
    "rf.fit(X_train, y_train)\n",
    "gb.fit(X_train, y_train)"
   ]
  },
  {
   "cell_type": "markdown",
   "id": "b97436f8",
   "metadata": {},
   "source": [
    "### 6.2 Model Predicton"
   ]
  },
  {
   "cell_type": "code",
   "execution_count": null,
   "id": "0291bb28",
   "metadata": {},
   "outputs": [],
   "source": [
    "# make prediction with trained model\n",
    "lgb_prediction = lgb.predict(X_test)\n",
    "xgb_prediction = xgb.predict(X_test)\n",
    "rf_prediction = rf.predict(X_test)\n",
    "gb_prediction = gb.predict(X_test)"
   ]
  },
  {
   "cell_type": "code",
   "execution_count": null,
   "id": "1101191f",
   "metadata": {},
   "outputs": [],
   "source": [
    "#make a data frame and compare actual value with model prediction\n",
    "preddf=pd.DataFrame({\n",
    "    'actual':y_test,\n",
    "    'lgb_prediction': lgb_prediction,\n",
    "    'xgb_prediction': xgb_prediction,\n",
    "    'rf_prediction': rf_prediction,\n",
    "    'gb_prediction': gb_prediction\n",
    "})\n",
    "preddf.sample(5)"
   ]
  },
  {
   "cell_type": "markdown",
   "id": "6bedffef",
   "metadata": {},
   "source": [
    "### 6.3 Model Evaluation"
   ]
  },
  {
   "cell_type": "code",
   "execution_count": null,
   "id": "f2204274",
   "metadata": {},
   "outputs": [],
   "source": [
    "from sklearn import metrics"
   ]
  },
  {
   "cell_type": "code",
   "execution_count": null,
   "id": "e45bc72d",
   "metadata": {},
   "outputs": [],
   "source": [
    "import math\n",
    "def rmse(y_test, y_pred): # function to convert mean square to root mean square\n",
    "    return math.sqrt(metrics.mean_squared_error(y_test, y_pred))"
   ]
  },
  {
   "cell_type": "code",
   "execution_count": null,
   "id": "02fde368",
   "metadata": {
    "scrolled": false
   },
   "outputs": [],
   "source": [
    "lr_mse=rmse(y_test, lr_prediction)\n",
    "xgb_mse=rmse(y_test, xgb_prediction)\n",
    "rf_mse=rmse(y_test, rf_prediction)\n",
    "gb_mse=rmse(y_test, gb_prediction)\n",
    "print(f'lr_mse: {lr_mse} \\nxgb_mse: {xgb_mse} \\nrf_mse: {rf_mse} \\ngb_mse: {gb_mse}')"
   ]
  },
  {
   "cell_type": "markdown",
   "id": "3408be7b",
   "metadata": {},
   "source": [
    "### 6.4 Hyperparameter tunning"
   ]
  },
  {
   "cell_type": "code",
   "execution_count": null,
   "id": "c2870a9e",
   "metadata": {},
   "outputs": [],
   "source": [
    "from sklearn.model_selection import RandomizedSearchCV"
   ]
  },
  {
   "cell_type": "code",
   "execution_count": null,
   "id": "78d7c973",
   "metadata": {},
   "outputs": [],
   "source": [
    "parameters ={# Setting training with parameters\n",
    "    \"learning_rate\":[0.01, 0.1],\n",
    "    'n_estimators':[100, 500, 1000], \n",
    "    'subsample':[0.1, 0.3, 0.6, 0.9, 1],\n",
    "    'max_depth':[3, 6, 9],}"
   ]
  },
  {
   "cell_type": "code",
   "execution_count": null,
   "id": "75d34f2c",
   "metadata": {},
   "outputs": [],
   "source": [
    "xgb= XGBRegressor()\n",
    "xgb_rscv = RandomizedSearchCV(gb, parameters,scoring='neg_root_mean_squared_error', cv=3, n_iter=3)\n",
    "xgb_tuned = xgb_rscv.fit(X_train,y_train)\n",
    "print(\"train_rsme:\",abs(xgb_tuned.best_score_))"
   ]
  },
  {
   "cell_type": "code",
   "execution_count": null,
   "id": "c140c59a",
   "metadata": {},
   "outputs": [],
   "source": [
    "xgb_tuned_predictions=xgb_tuned.predict(X_test)\n",
    "xgb_mse=rmse(y_test, xgb_tuned_predictions)\n",
    "print(\"test_rsme: \",xgb_mse)"
   ]
  },
  {
   "cell_type": "code",
   "execution_count": null,
   "id": "62df88d4",
   "metadata": {},
   "outputs": [],
   "source": [
    "#!pip install sweetviz\n",
    "import sweetviz as sv"
   ]
  },
  {
   "cell_type": "code",
   "execution_count": null,
   "id": "3598c2e1",
   "metadata": {},
   "outputs": [],
   "source": [
    "report = sv.compare([X_train, \"train data\"], [X_test, \"test data\"])\n",
    "report.show_html()"
   ]
  }
 ],
 "metadata": {
  "kernelspec": {
   "display_name": "Python 3 (ipykernel)",
   "language": "python",
   "name": "python3"
  },
  "language_info": {
   "codemirror_mode": {
    "name": "ipython",
    "version": 3
   },
   "file_extension": ".py",
   "mimetype": "text/x-python",
   "name": "python",
   "nbconvert_exporter": "python",
   "pygments_lexer": "ipython3",
   "version": "3.10.0"
  }
 },
 "nbformat": 4,
 "nbformat_minor": 5
}
